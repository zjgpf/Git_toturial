{
 "cells": [
  {
   "cell_type": "markdown",
   "metadata": {},
   "source": [
    "### git structure\n",
    "\n",
    "Working Directory  <->  Staging Area  <->  .git directory(Repository)"
   ]
  },
  {
   "cell_type": "markdown",
   "metadata": {},
   "source": [
    "### 1 git --version"
   ]
  },
  {
   "cell_type": "markdown",
   "metadata": {},
   "source": [
    "### 2 git config\n",
    "- git config --global user.name \"\"\n",
    "- git config --global user.email \"\"\n",
    "- git config --list\n",
    "- git config --help | git help config\n",
    "- git $<verb>$ --help | git help $<verb>$"
   ]
  },
  {
   "cell_type": "markdown",
   "metadata": {},
   "source": [
    "### 3 Initialize a repository from existing code\n",
    "- git init\n",
    "- git status\n",
    "- .gitignore\n",
    "- Add files to staging area\n",
    "    - git add -A (add all the files)\n",
    "- Remove files to staging area\n",
    "    - git reset\n",
    "- Commit to repository\n",
    "    - git commit -m ''\n",
    "    - git log (Show all the commit)\n",
    "    - git log --stat (Show detail for commit)\n",
    "- push to remote repository\n",
    "    - git remote add origin https://github.com/zjgpf/Git_toturial.git\n",
    "    - git pull\n",
    "    - git push -u origin master"
   ]
  },
  {
   "cell_type": "markdown",
   "metadata": {},
   "source": [
    "### Cloning a remote repo\n",
    "git clone $<url>$ $<where To Clone>$\n",
    "\n",
    "Viewing information about the remote repository\n",
    "\n",
    "git remote -v\n",
    "\n",
    "git branch -a\n",
    "\n",
    "Push changes\n",
    "\n",
    "git diff\n",
    "\n",
    "git status\n",
    "\n",
    "git add -A\n",
    "\n",
    "git commit -m ''\n",
    "\n",
    "git pull origin master\n",
    "\n",
    "git push origin master"
   ]
  },
  {
   "cell_type": "markdown",
   "metadata": {},
   "source": [
    "### Create a branch for desired feature\n",
    "- git branch $<branch name>$\n",
    "- git checkout $<branch name>$\n",
    "- git push -u origin $<branch name>$"
   ]
  },
  {
   "cell_type": "markdown",
   "metadata": {},
   "source": [
    "### Merge a branch\n",
    "\n",
    "- git chechout master\n",
    "\n",
    "- git pull origin master\n",
    "\n",
    "- git branch --merged\n",
    "\n",
    "- git merge calc-divide\n",
    "\n",
    "- git push origin master"
   ]
  },
  {
   "cell_type": "markdown",
   "metadata": {},
   "source": [
    "### Deleting a branch\n",
    "- git branch --merged\n",
    "- git branch -d $<branch-name>$\n",
    "- git branch -a\n",
    "- git push origin --delete $<branch-name>$"
   ]
  },
  {
   "cell_type": "markdown",
   "metadata": {},
   "source": [
    "### Undo bad changes\n",
    "- Not add to staging area yet\n",
    "        - git checkout\n",
    "- Already add to staging area\n",
    "        - git reset + git checkout\n",
    "- modify commit comments\n",
    "        - git commit --amend -m ''\n",
    "- add files to previous commit\n",
    "        - git commit --amend\n",
    "- switch commit to different branch\n",
    "    - copy the log-hash of the commit of origin branch\n",
    "    - switch branch\n",
    "    - git cherry-pick log-hash\n",
    "    - switch to origin branch\n",
    "    - git reset [--soft,--hard] log-hash of the checkpoint you want to recover\n",
    "\n",
    "- undo commit other's already checkout\n",
    "    - git revert log-hash of the commit you want to revert\n",
    "\n",
    "- get rid of untracked files\n",
    "    - git clearn -df\n"
   ]
  },
  {
   "cell_type": "markdown",
   "metadata": {},
   "source": [
    "### Recover from git reset --hard\n",
    "- git reflog\n",
    "- git checkout hash of the point you want to recover\n",
    "- git branch backup"
   ]
  },
  {
   "cell_type": "markdown",
   "metadata": {},
   "source": [
    "### Task1\n",
    "- create a folder with following structure\n",
    "\n",
    "$-$ \n",
    "\n",
    "calc.py \n",
    "\n",
    "modify.py\n",
    "\n",
    "delete.py\n",
    "\n",
    "ignore.py\n",
    "\n",
    "my_project \n",
    "\n",
    "        - my_project.py\n",
    " \n",
    "Add my_project ignore.py to .gitignore file\n",
    "\n",
    "\n",
    "Run git add/reset/status/commit/log\n",
    "        \n",
    "        "
   ]
  },
  {
   "cell_type": "markdown",
   "metadata": {},
   "source": [
    "### Task2\n",
    "- clone the branch, add some file, run diff, pull, push\n",
    "- create a new branch, add a file\n",
    "- merge the branch\n",
    "- delete the branch"
   ]
  },
  {
   "cell_type": "code",
   "execution_count": null,
   "metadata": {},
   "outputs": [],
   "source": []
  }
 ],
 "metadata": {
  "kernelspec": {
   "display_name": "Python 3",
   "language": "python",
   "name": "python3"
  },
  "language_info": {
   "codemirror_mode": {
    "name": "ipython",
    "version": 3
   },
   "file_extension": ".py",
   "mimetype": "text/x-python",
   "name": "python",
   "nbconvert_exporter": "python",
   "pygments_lexer": "ipython3",
   "version": "3.6.4"
  }
 },
 "nbformat": 4,
 "nbformat_minor": 2
}
